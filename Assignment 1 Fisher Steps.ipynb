{
 "cells": [
  {
   "cell_type": "markdown",
   "metadata": {},
   "source": [
    "# Assignment 1: Fisher Implementation"
   ]
  },
  {
   "cell_type": "markdown",
   "metadata": {},
   "source": [
    "<font color=blue><b>1- Import Needed Packages</b></font>"
   ]
  },
  {
   "cell_type": "code",
   "execution_count": null,
   "metadata": {},
   "outputs": [],
   "source": [
    "import numpy as np\n",
    "import os\n",
    "import imageio\n",
    "import matplotlib.pylab as plt"
   ]
  },
  {
   "cell_type": "markdown",
   "metadata": {},
   "source": [
    "### Get the current directory path"
   ]
  },
  {
   "cell_type": "code",
   "execution_count": null,
   "metadata": {},
   "outputs": [],
   "source": [
    "home_path = os.getcwd()"
   ]
  },
  {
   "cell_type": "markdown",
   "metadata": {},
   "source": [
    "<font color=blue><b>2- Load Images </b></font>"
   ]
  },
  {
   "cell_type": "code",
   "execution_count": null,
   "metadata": {},
   "outputs": [],
   "source": [
    "path='./Train'\n",
    "os.chdir(path)\n",
    "\n",
    "Images=os.listdir()\n",
    "#print(type(Images)) # How Does it store\n",
    "#print(Images)\n",
    "#print(len(Images))# To know number of them\n",
    "\n",
    "#print(Images)"
   ]
  },
  {
   "cell_type": "code",
   "execution_count": null,
   "metadata": {},
   "outputs": [],
   "source": []
  },
  {
   "cell_type": "markdown",
   "metadata": {},
   "source": [
    "<font color=blue><b>3-Sort them and read them </b></font>"
   ]
  },
  {
   "cell_type": "code",
   "execution_count": null,
   "metadata": {},
   "outputs": [],
   "source": [
    "%matplotlib inline\n",
    "Images1=sorted(Images, key=lambda t: int(os.path.splitext(t)[0])) # sort them ascendingly \n",
    "ImagF=np.zeros((2400,784))  # All Images\n",
    "for i in range(len(Images1)):\n",
    "    ImagF1=imageio.imread(Images1[i])\n",
    "    ImagF[i,:]=ImagF1.reshape((1,784))\n",
    "#plt.imshow(ImagF[1000,:].reshape(28,28)) To Display it"
   ]
  },
  {
   "cell_type": "markdown",
   "metadata": {},
   "source": [
    "<font color=blue ><b>4-Training Phase (Weights) </b></font> "
   ]
  },
  {
   "cell_type": "code",
   "execution_count": null,
   "metadata": {},
   "outputs": [],
   "source": [
    "def m1(c1):\n",
    "    #Calculate mean of the intended class \n",
    "    \n",
    "    \n",
    "    return m1\n",
    "def m2(c2):\n",
    "    #Calculate mean of the other classes\n",
    "    \n",
    "    return m2"
   ]
  },
  {
   "cell_type": "code",
   "execution_count": null,
   "metadata": {},
   "outputs": [],
   "source": [
    "def S1(c1,m1):\n",
    "    # Calculate First Term of SW\n",
    "    return S1_t \n",
    "def S2(c2,m2):\n",
    "    #Calculate Second Term of SW\n",
    "    return S2_t"
   ]
  },
  {
   "cell_type": "code",
   "execution_count": null,
   "metadata": {},
   "outputs": [],
   "source": [
    "W=np.zeros((10,784))\n",
    "W_o=np.zeros((10,1))\n",
    "counter=0 \n",
    "for i in range(0,len(Images1),240):\n",
    "    \n",
    "    #Get First Class say c1\n",
    "    \n",
    "    #Get Other Classes say c2\n",
    "\n",
    "    #Get Means\n",
    "    mean1=m1(c1)\n",
    "    mean2=m2(c2)\n",
    "    \n",
    "    #Calculate SW\n",
    "    Sw=S1(c1,mean1)+S2(c2,mean2)\n",
    "    #Calculate its invers \"Note Use pinv function\"\n",
    "    Sw_inv=np.linalg.pinv(Sw)\n",
    "    #Calculate Weigths of the intended class \n",
    "   \n",
    "    #Calculate W_bias of it\n",
    "\n",
    "    counter+=1\n"
   ]
  },
  {
   "cell_type": "markdown",
   "metadata": {},
   "source": [
    "<font color=blue ><b>5-Testing Phase </b></font>"
   ]
  },
  {
   "cell_type": "code",
   "execution_count": null,
   "metadata": {},
   "outputs": [],
   "source": [
    "#-----------------Testing---------------\n",
    "os.chdir(home_path)\n",
    "Test_Labels=np.loadtxt(\"Test Labels.txt\")\n",
    "path='./Test'\n",
    "os.chdir(path)\n",
    "Test_Image=os.listdir()\n",
    "Test_Image.pop()\n",
    "Test_Image1=sorted(Test_Image, key=lambda t: int(os.path.splitext(t)[0]))\n",
    "Imag_T=np.zeros((200,784))\n",
    "for i in range(len(Test_Image1)):\n",
    "    Imag=imageio.imread(Test_Image1[i])\n",
    "    Imag_T[i,:]=Imag.reshape((1,784)) \n",
    "    \n",
    "# Calculate Predicted Y \n",
    "\n",
    "# Calculate Predicted Labels\n",
    "\n",
    "\n",
    "#Calculate Accuracy and Print it\n",
    "\n",
    "\n",
    "#Plot Confusion Matrix and save it but take care to save it in another folder NOT TRAIN or TEST\n"
   ]
  }
 ],
 "metadata": {
  "kernelspec": {
   "display_name": "Python 3",
   "language": "python",
   "name": "python3"
  },
  "language_info": {
   "codemirror_mode": {
    "name": "ipython",
    "version": 3
   },
   "file_extension": ".py",
   "mimetype": "text/x-python",
   "name": "python",
   "nbconvert_exporter": "python",
   "pygments_lexer": "ipython3",
   "version": "3.6.7"
  }
 },
 "nbformat": 4,
 "nbformat_minor": 2
}
